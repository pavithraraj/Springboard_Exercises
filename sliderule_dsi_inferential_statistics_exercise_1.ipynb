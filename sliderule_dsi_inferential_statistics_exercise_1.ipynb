{
 "cells": [
  {
   "cell_type": "markdown",
   "metadata": {},
   "source": [
    "# What is the True Normal Human Body Temperature? \n",
    "\n",
    "#### Background\n",
    "\n",
    "The mean normal body temperature was held to be 37$^{\\circ}$C or 98.6$^{\\circ}$F for more than 120 years since it was first conceptualized and reported by Carl Wunderlich in a famous 1868 book. But, is this value statistically correct?"
   ]
  },
  {
   "cell_type": "markdown",
   "metadata": {},
   "source": [
    "<h3>Exercises</h3>\n",
    "\n",
    "<p>In this exercise, you will analyze a dataset of human body temperatures and employ the concepts of hypothesis testing, confidence intervals, and statistical significance.</p>\n",
    "\n",
    "<p>Answer the following questions <b>in this notebook below and submit to your Github account</b>.</p> \n",
    "\n",
    "<ol>\n",
    "<li>  Is the distribution of body temperatures normal? \n",
    "    <ul>\n",
    "    <li> Although this is not a requirement for CLT to hold (read CLT carefully), it gives us some peace of mind that the population may also be normally distributed if we assume that this sample is representative of the population.\n",
    "    </ul>\n",
    "<li>  Is the sample size large? Are the observations independent?\n",
    "    <ul>\n",
    "    <li> Remember that this is a condition for the CLT, and hence the statistical tests we are using, to apply.\n",
    "    </ul>\n",
    "<li>  Is the true population mean really 98.6 degrees F?\n",
    "    <ul>\n",
    "    <li> Would you use a one-sample or two-sample test? Why?\n",
    "    <li> In this situation, is it appropriate to use the $t$ or $z$ statistic? \n",
    "    <li> Now try using the other test. How is the result be different? Why?\n",
    "    </ul>\n",
    "<li>  Draw a small sample of size 10 from the data and repeat both tests. \n",
    "    <ul>\n",
    "    <li> Which one is the correct one to use? \n",
    "    <li> What do you notice? What does this tell you about the difference in application of the $t$ and $z$ statistic?\n",
    "    </ul>\n",
    "<li>  At what temperature should we consider someone's temperature to be \"abnormal\"?\n",
    "    <ul>\n",
    "    <li> Start by computing the margin of error and confidence interval.\n",
    "    </ul>\n",
    "<li>  Is there a significant difference between males and females in normal temperature?\n",
    "    <ul>\n",
    "    <li> What test did you use and why?\n",
    "    <li> Write a story with your conclusion in the context of the original problem.\n",
    "    </ul>\n",
    "</ol>\n",
    "\n",
    "You can include written notes in notebook cells using Markdown: \n",
    "   - In the control panel at the top, choose Cell > Cell Type > Markdown\n",
    "   - Markdown syntax: http://nestacms.com/docs/creating-content/markdown-cheat-sheet\n",
    "\n",
    "#### Resources\n",
    "\n",
    "+ Information and data sources: http://www.amstat.org/publications/jse/datasets/normtemp.txt, http://www.amstat.org/publications/jse/jse_data_archive.htm\n",
    "+ Markdown syntax: http://nestacms.com/docs/creating-content/markdown-cheat-sheet\n",
    "\n",
    "****"
   ]
  },
  {
   "cell_type": "code",
   "execution_count": 5,
   "metadata": {
    "collapsed": true
   },
   "outputs": [],
   "source": [
    "import pandas as pd\n",
    "import numpy as np\n",
    "import matplotlib.pyplot as plt\n",
    "import seaborn as sns\n",
    "from scipy import stats, integrate\n",
    "sns.set_style('white')\n",
    "sns.set_style('ticks')\n",
    "sns.despine()\n",
    "%matplotlib inline\n",
    "df = pd.read_csv('human_body_temperature.csv')"
   ]
  },
  {
   "cell_type": "code",
   "execution_count": 3,
   "metadata": {},
   "outputs": [
    {
     "name": "stdout",
     "output_type": "stream",
     "text": [
      "   temperature gender  heart_rate\n",
      "0         99.3      F        68.0\n",
      "1         98.4      F        81.0\n",
      "2         97.8      M        73.0\n",
      "3         99.2      F        66.0\n",
      "4         98.0      F        73.0\n",
      "5         99.2      M        83.0\n",
      "6         98.0      M        71.0\n",
      "7         98.8      M        78.0\n",
      "8         98.4      F        84.0\n",
      "9         98.6      F        86.0\n",
      "     temperature gender  heart_rate\n",
      "120         97.7      F        84.0\n",
      "121         97.9      F        68.0\n",
      "122         99.0      F        81.0\n",
      "123         97.2      F        66.0\n",
      "124         97.5      M        75.0\n",
      "125         96.3      M        70.0\n",
      "126         97.7      M        77.0\n",
      "127         98.2      F        73.0\n",
      "128         97.9      M        72.0\n",
      "129         98.7      F        59.0\n"
     ]
    }
   ],
   "source": [
    "print(df.head(10))\n",
    "print(df.tail(10))"
   ]
  },
  {
   "cell_type": "markdown",
   "metadata": {
    "collapsed": true
   },
   "source": [
    "1. Is the distribution of body temperatures normal? Although this is not a requirement for CLT to hold (read CLT carefully), it gives us some peace of mind that the population may also be normally distributed if we assume that this sample is representative of the population. ANSWER the below histogram shows that the data for observed temperatures is evenly distributed"
   ]
  },
  {
   "cell_type": "code",
   "execution_count": 4,
   "metadata": {},
   "outputs": [
    {
     "data": {
      "text/plain": [
       "<matplotlib.axes._subplots.AxesSubplot at 0x1cc5d462ef0>"
      ]
     },
     "execution_count": 4,
     "metadata": {},
     "output_type": "execute_result"
    },
    {
     "data": {
      "image/png": "[encoded data removed]",
      "text/plain": [
       "<matplotlib.figure.Figure at 0x1cc5d324b00>"
      ]
     },
     "metadata": {},
     "output_type": "display_data"
    }
   ],
   "source": [
    "plt.title(\"EDA for the Temperature\")\n",
    "plt.ylabel('Frequency')\n",
    "plt.xlabel('Temperature')\n",
    "sns.distplot(df.temperature)"
   ]
  },
  {
   "cell_type": "markdown",
   "metadata": {},
   "source": [
    "2. Is the sample size large? Are the observations independent? \n",
    "Remember that this is a condition for the CLT, and hence the statistical tests we are using, to apply. ANSWER: The Sample size is 130 and though not large is good enough. If the sample size is more than 30 than it is good enough for the calculations and prediction. The Scatter plot below for Observation index Vs Temperature and Observation Index Vs Heart rate shows no pattern and we can infer that they are independent. Also the correlation coeffient is not big and we can say that they are not correlated to each other."
   ]
  },
  {
   "cell_type": "code",
   "execution_count": 6,
   "metadata": {},
   "outputs": [
    {
     "data": {
      "text/plain": [
       "130"
      ]
     },
     "execution_count": 6,
     "metadata": {},
     "output_type": "execute_result"
    }
   ],
   "source": [
    "len(df)"
   ]
  },
  {
   "cell_type": "code",
   "execution_count": 5,
   "metadata": {},
   "outputs": [
    {
     "data": {
      "text/plain": [
       "<matplotlib.text.Text at 0x1cc5bf9c4a8>"
      ]
     },
     "execution_count": 5,
     "metadata": {},
     "output_type": "execute_result"
    },
    {
     "data": {
      "image/png": "[encoded data removed]",
      "text/plain": [
       "<matplotlib.figure.Figure at 0x1cc5c033048>"
      ]
     },
     "metadata": {},
     "output_type": "display_data"
    }
   ],
   "source": [
    "plt.scatter(df.index, df.temperature)\n",
    "plt.xlabel('Observation index')\n",
    "plt.ylabel('Temperature')\n",
    "plt.title('EDA Temperature Observations are Independent')"
   ]
  },
  {
   "cell_type": "code",
   "execution_count": 7,
   "metadata": {},
   "outputs": [
    {
     "data": {
      "text/plain": [
       "<matplotlib.text.Text at 0x1cc5d71a588>"
      ]
     },
     "execution_count": 7,
     "metadata": {},
     "output_type": "execute_result"
    },
    {
     "data": {
      "image/png": "[encoded data removed]",
      "text/plain": [
       "<matplotlib.figure.Figure at 0x1cc5d6d1c50>"
      ]
     },
     "metadata": {},
     "output_type": "display_data"
    }
   ],
   "source": [
    "plt.scatter(df.index, df.heart_rate)\n",
    "plt.xlabel('Observation Index')\n",
    "plt.ylabel('Heart Rate')\n",
    "plt.title('EDA Heart Rate Observations are Independent')"
   ]
  },
  {
   "cell_type": "code",
   "execution_count": 8,
   "metadata": {},
   "outputs": [
    {
     "data": {
      "text/plain": [
       "<seaborn.axisgrid.PairGrid at 0x1cc5d786550>"
      ]
     },
     "execution_count": 8,
     "metadata": {},
     "output_type": "execute_result"
    },
    {
     "data": {
      "image/png": "[encoded data removed]",
      "text/plain": [
       "<matplotlib.figure.Figure at 0x1cc5d77fe10>"
      ]
     },
     "metadata": {},
     "output_type": "display_data"
    }
   ],
   "source": [
    "gender = sns.PairGrid(df, hue='gender')\n",
    "gender.map_diag(plt.hist)\n",
    "gender.map_offdiag(plt.scatter)\n",
    "gender.add_legend()"
   ]
  },
  {
   "cell_type": "code",
   "execution_count": 9,
   "metadata": {},
   "outputs": [
    {
     "data": {
      "text/html": [
       "<div>\n",
       "<style>\n",
       "    .dataframe thead tr:only-child th {\n",
       "        text-align: right;\n",
       "    }\n",
       "\n",
       "    .dataframe thead th {\n",
       "        text-align: left;\n",
       "    }\n",
       "\n",
       "    .dataframe tbody tr th {\n",
       "        vertical-align: top;\n",
       "    }\n",
       "</style>\n",
       "<table border=\"1\" class=\"dataframe\">\n",
       "  <thead>\n",
       "    <tr style=\"text-align: right;\">\n",
       "      <th></th>\n",
       "      <th>temperature</th>\n",
       "      <th>heart_rate</th>\n",
       "    </tr>\n",
       "  </thead>\n",
       "  <tbody>\n",
       "    <tr>\n",
       "      <th>temperature</th>\n",
       "      <td>1.000000</td>\n",
       "      <td>0.253656</td>\n",
       "    </tr>\n",
       "    <tr>\n",
       "      <th>heart_rate</th>\n",
       "      <td>0.253656</td>\n",
       "      <td>1.000000</td>\n",
       "    </tr>\n",
       "  </tbody>\n",
       "</table>\n",
       "</div>"
      ],
      "text/plain": [
       "             temperature  heart_rate\n",
       "temperature     1.000000    0.253656\n",
       "heart_rate      0.253656    1.000000"
      ]
     },
     "execution_count": 9,
     "metadata": {},
     "output_type": "execute_result"
    }
   ],
   "source": [
    "df.corr()"
   ]
  },
  {
   "cell_type": "markdown",
   "metadata": {},
   "source": [
    "3. Is the true population mean really 98.6 degrees F? \n",
    "Would you use a one-sample or two-sample test? Why? \n",
    "In this situation, is it appropriate to use the t or z statistic? \n",
    "Now try using the other test. How is the result be different? Why? \n",
    "\n",
    "A)Is the true population mean really 98.6 degrees F? \n",
    "\n",
    "ANSWER: We use Hypothesis testing and consider\n",
    "    h0 mean temperature is 98.6\n",
    "    h1 mean temperature is not equal to 98.6\n",
    "From below the p - value is 0.00000024 and is less than the desired 0.05 and we can discard the null hypothesis that the mean temperature is 98.6. So the alternate hypothesis is true.\n",
    "B) Would you use a one-sample or two-sample test? Why?\n",
    "ANSWER: one-sample test. A two sample test would require two different populations and  we are only comparing if a single population is different than a given value so we only need to use a one-sample test.\n",
    "C) In this situation, is it appropriate to use the t or z statistic?\n",
    "ANSWER: Since we dont have the Standard deviation we go with t-test. \n",
    "D)Now try using the other test. How is the result be different? Why? \n",
    "ANSWER: Both values are the same, since we are using the sample Standard Deviation and not the population Standard deviation. Also the sample size is more than 30 then we see the same values.The formula to compute the z-score and t-score are exactly the same with the exception of the z-score using the population statistic and t-score using the sample statistic. Since I used the sample statistic, this give me the same result as the t-test. For the z-statistic I used the sample Standard Deviation so the results are the same\n"
   ]
  },
  {
   "cell_type": "code",
   "execution_count": 9,
   "metadata": {},
   "outputs": [
    {
     "data": {
      "text/plain": [
       "Ttest_1sampResult(statistic=-5.4548232923645195, pvalue=2.4106320415561276e-07)"
      ]
     },
     "execution_count": 9,
     "metadata": {},
     "output_type": "execute_result"
    }
   ],
   "source": [
    "stats.ttest_1samp(df.temperature, 98.6)"
   ]
  },
  {
   "cell_type": "code",
   "execution_count": 8,
   "metadata": {},
   "outputs": [
    {
     "name": "stdout",
     "output_type": "stream",
     "text": [
      " z-stat = -5.454823292364079 \n",
      " p-value = 2.451078506826576e-08\n"
     ]
    }
   ],
   "source": [
    "xbar = df.temperature.mean()\n",
    "sd = df.temperature.std()    \n",
    "\n",
    "z = (xbar - 98.6)/(sd/len(df)**(1/2))\n",
    "p = 1-stats.norm.cdf(abs(z))\n",
    "print(' z-stat = {z} \\n p-value = {p}'.format(z=z,p=p))"
   ]
  },
  {
   "cell_type": "markdown",
   "metadata": {},
   "source": [
    "4. Draw a small sample of size 10 from the data and repeat both tests. \n",
    "Which one is the correct one to use? \n",
    "What do you notice? What does this tell you about the difference in application of the t and zstatistic? \n",
    "ANSWER: When you use the sample size of 10 SD and mean will be different giving different t and z statistics."
   ]
  },
  {
   "cell_type": "code",
   "execution_count": 6,
   "metadata": {},
   "outputs": [
    {
     "name": "stdout",
     "output_type": "stream",
     "text": [
      " z-stat = -0.6606090574188225 \n",
      " p-value = 0.2544315294761945\n"
     ]
    }
   ],
   "source": [
    "perm_sample1 = df.temperature\n",
    "perm_sample =perm_sample1.head(10)\n",
    "xbar = np.mean(perm_sample)\n",
    "sd = np.std(perm_sample)    \n",
    "\n",
    "z = (xbar - 98.6)/(sd/len(df)**(1/2))\n",
    "p = 1-stats.norm.cdf(abs(z))\n",
    "print(' z-stat = {z} \\n p-value = {p}'.format(z=z,p=p))"
   ]
  },
  {
   "cell_type": "markdown",
   "metadata": {},
   "source": [
    "5.At what temperature should we consider someone's temperature to be \"abnormal\"? \n",
    "Start by computing the margin of error and confidence interval. \n",
    "ANSWER: With 95% confidence, we expect that the temperature would like between 98.12 degrees and 98.38 degrees farenheit. Anything above or below that interval will be considered abnormal"
   ]
  },
  {
   "cell_type": "code",
   "execution_count": 10,
   "metadata": {},
   "outputs": [
    {
     "name": "stdout",
     "output_type": "stream",
     "text": [
      " 95% Confidence Interval: 98.12319411222852 to 98.37526742623304 \n",
      " Margin of Error: 0.12603665700226638\n"
     ]
    }
   ],
   "source": [
    "se = sd/(len(df)**(1/2))\n",
    "me = 1.96*se\n",
    "plus = xbar + 1.96*se\n",
    "minus = xbar - 1.96*se \n",
    "print (' 95% Confidence Interval: {minus} to {plus} \\n Margin of Error: {me}'.format(minus=minus,plus=plus, me=me))"
   ]
  },
  {
   "cell_type": "markdown",
   "metadata": {},
   "source": [
    "6.Is there a significant difference between males and females in normal temperature? \n",
    "What test did you use and why? \n",
    "Write a story with your conclusion in the context of the original problem.\n",
    "\n",
    "\n",
    "A) Is there a significant difference between males and females in normal temperature? \n",
    "\n",
    "ANSWER: \n",
    "h0 = mean of females - mean of males is the same == 0\n",
    "h1 = mean of females - mean of males is signficantly different != 0\n",
    "We see that the p - value 0.024 and is less than 0.05 we would reject the null hypothesis and so the alternate hypothesis is true. So we see that there is a significant difference between the normal body temperature of females and males.\n",
    "\n",
    "B) What test did you use and why?\n",
    "ANSWER: I used 2 sample t -test since we have two groups that are independent of each other. If we use 1 Sample test then it would be case where we have one group that we are testing and also the t -test would be the same. Now since we need to compare two different groups that are independent of each other then we do a 2 sample t-test. A paired t-test is the same as the 1 sample t-test since the results of the pre treatment will be used for the post treatment and the results are dependent. Since we have two independent group, then we use the 2 sample t-test.\n",
    "\n",
    "C) Write a story with your conclusion in the context of the original problem.\n",
    "With 95% confidence the normal body temperature is between 98.12319411222852 to 98.37526742623304 given that we have used 130 samples. Now this could be because the population of male and female have changed over the years. So the human body mean temperature that has been established for 120 years, which is 98.6 F and 37 C seem to be changed over the years because of the difference in the male and female temperatures.\n",
    "\n"
   ]
  },
  {
   "cell_type": "code",
   "execution_count": null,
   "metadata": {
    "collapsed": true
   },
   "outputs": [],
   "source": [
    "female = df.temperature[df.gender == 'F']\n",
    "male = df.temperature[df.gender == 'M']\n",
    "stats.ttest_ind(female,male)"
   ]
  },
  {
   "cell_type": "markdown",
   "metadata": {},
   "source": []
  }
 ],
 "metadata": {
  "kernelspec": {
   "display_name": "Python 3",
   "language": "python",
   "name": "python3"
  },
  "language_info": {
   "codemirror_mode": {
    "name": "ipython",
    "version": 3
   },
   "file_extension": ".py",
   "mimetype": "text/x-python",
   "name": "python",
   "nbconvert_exporter": "python",
   "pygments_lexer": "ipython3",
   "version": "3.6.2"
  }
 },
 "nbformat": 4,
 "nbformat_minor": 1
}
